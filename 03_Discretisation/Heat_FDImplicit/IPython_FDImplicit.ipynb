{
 "cells": [
  {
   "cell_type": "markdown",
   "metadata": {},
   "source": [
    "# Heat Equation - FD Implicit"
   ]
  },
  {
   "cell_type": "markdown",
   "metadata": {},
   "source": [
    "## Finite-difference scheme for the one-dimensional heat equation"
   ]
  },
  {
   "cell_type": "markdown",
   "metadata": {},
   "source": [
    "We consider here the heat equation on [0, x] × [0, ∞) with boundary conditions \n",
    "u(x, 0) = sin(2πx) for all x ∈ [0, x] and \n",
    "u(0, t) = u(x, t) = 0 for all t ≥ 0. \n",
    "\n",
    "We apply a finite difference scheme, explicit in time and with central difference in space"
   ]
  },
  {
   "cell_type": "markdown",
   "metadata": {},
   "source": [
    "### Import packages"
   ]
  },
  {
   "cell_type": "code",
   "execution_count": 1,
   "metadata": {
    "collapsed": true
   },
   "outputs": [],
   "source": [
    "import numpy as np\n",
    "from matplotlib import pyplot\n",
    "%matplotlib inline\n",
    "from matplotlib import rcParams\n",
    "rcParams['font.family'] = 'serif'\n",
    "rcParams['font.size'] = 16\n",
    "\n",
    "# For sparse matrices\n",
    "from scipy.sparse import dia_matrix\n",
    "from scipy.sparse.linalg.dsolve import spsolve\n",
    "\n",
    "import warnings\n",
    "warnings.filterwarnings(\"ignore\")"
   ]
  },
  {
   "cell_type": "markdown",
   "metadata": {},
   "source": [
    "## Implicit Scheme"
   ]
  },
  {
   "cell_type": "code",
   "execution_count": 2,
   "metadata": {
    "collapsed": true
   },
   "outputs": [],
   "source": [
    "from scipy.linalg import solve"
   ]
  },
  {
   "cell_type": "code",
   "execution_count": 3,
   "metadata": {
    "collapsed": true
   },
   "outputs": [],
   "source": [
    "def generateMatrix(N, sigma):\n",
    "    \"\"\" Computes the matrix for the diffusion equation with backward Euler\n",
    "        Dirichlet condition at i=0, Neumann at i=-1\n",
    "    \n",
    "    Parameters:\n",
    "    ----------\n",
    "    T: array of float\n",
    "        Temperature at current time step\n",
    "    sigma: float \n",
    "        alpha*dt/dx^2\n",
    "    \n",
    "    Returns:\n",
    "    -------\n",
    "    A: 2D numpy array of float\n",
    "        Matrix for diffusion equation\n",
    "    \"\"\"\n",
    "   \n",
    "    # Setup the diagonal\n",
    "    d = np.diag(np.ones(N-2)*(2+1./sigma))\n",
    "    \n",
    "    # Consider Neumann BC\n",
    "    #d[-1,-1] = 1+1./sigma\n",
    "    \n",
    "    # Setup upper diagonal\n",
    "    ud = np.diag(np.ones(N-3)*-1, 1)\n",
    "    \n",
    "    # Setup lower diagonal\n",
    "    ld = np.diag(np.ones(N-3)*-1, -1)\n",
    "    \n",
    "    A = d + ud + ld\n",
    "    \n",
    "    return A"
   ]
  },
  {
   "cell_type": "code",
   "execution_count": 4,
   "metadata": {
    "collapsed": true
   },
   "outputs": [],
   "source": [
    "def generateRHS(T, sigma, qdx):\n",
    "    \"\"\" Computes right-hand side of linear system for diffusion equation\n",
    "        with Forward Euler\n",
    "    \n",
    "    Parameters:\n",
    "    ----------\n",
    "    T: array of float\n",
    "        Temperature at current time step\n",
    "    sigma: float\n",
    "        alpha*dt/dx^2\n",
    "    qdx: float\n",
    "        flux at right boundary * dx\n",
    "    \n",
    "    Returns:\n",
    "    -------\n",
    "    b: array of float\n",
    "        Right-hand side of diffusion equation with backward Euler\n",
    "    \"\"\"\n",
    "    \n",
    "    b = T[1:-1]*1./sigma\n",
    "    # Consider Dirichlet BC\n",
    "    b[0] += T[0]\n",
    "    # Consider Neumann BC\n",
    "    #b[-1] += qdx\n",
    "    \n",
    "    return b"
   ]
  },
  {
   "cell_type": "code",
   "execution_count": 5,
   "metadata": {
    "collapsed": true
   },
   "outputs": [],
   "source": [
    "def implicit_btcs(T, A, nt, sigma, qdx):\n",
    "    \"\"\" Advances diffusion equation in time with implicit central scheme\n",
    "   \n",
    "    Parameters:\n",
    "    ----------\n",
    "    T: array of float\n",
    "        initial temperature profile\n",
    "    A: 2D array of float\n",
    "        Matrix with discretized diffusion equation\n",
    "    nt: int\n",
    "        number of time steps\n",
    "    sigma: float\n",
    "        alpha*td/dx^2\n",
    "        \n",
    "    qdx: float\n",
    "        flux at right boundary * dx\n",
    "    Returns:\n",
    "    -------\n",
    "    T: array of floats\n",
    "        temperature profile after nt time steps\n",
    "    \"\"\"\n",
    "    \n",
    "    for t in range(nt):\n",
    "        Tn = T.copy()\n",
    "        b = generateRHS(Tn, sigma, qdx)\n",
    "        # Use numpy.linalg.solve\n",
    "        T_interior = solve(A,b)\n",
    "        T[1:-1] = T_interior\n",
    "        # Enforce Neumann BC (Dirichlet is enforced automatically)\n",
    "        #T[-1] = T[-2] + qdx\n",
    "\n",
    "    return T"
   ]
  },
  {
   "cell_type": "code",
   "execution_count": 6,
   "metadata": {
    "collapsed": false
   },
   "outputs": [
    {
     "data": {
      "image/png": "[encoded data removed]",
      "text/plain": [
       "<matplotlib.figure.Figure at 0x7f62d813acf8>"
      ]
     },
     "metadata": {},
     "output_type": "display_data"
    }
   ],
   "source": [
    "# Set simulation parameters\n",
    "sigma = 1.0\n",
    "barX = 1.0\n",
    "T = 0.1\n",
    "\n",
    "# Set up grid parameters\n",
    "nx = 100  # num of grid points\n",
    "nt = 5000 # num of time steps\n",
    "\n",
    "dx = barX / (nx - 1)   # Grid step in space\n",
    "dt = T / nt            # Grid step in time\n",
    "\n",
    "qdx = 0 # related to Neumann BCs\n",
    "\n",
    "# Space step size\n",
    "x = np.linspace(0.0, barX, nx)\n",
    "# Boundary conditions\n",
    "Ti = np.sin(2 * np.pi * x)\n",
    "\n",
    "# Generate matrix\n",
    "A = generateMatrix(nx, sigma)\n",
    "\n",
    "# run implicit simulation\n",
    "T = implicit_btcs(Ti.copy(), A, nt, sigma, qdx) * 100000000  # WHY???\n",
    "\n",
    "\n",
    "# Initial Condition & solution plot\n",
    "pyplot.figure()\n",
    "pyplot.plot(x, Ti, 'b-', label='Initial Condition')\n",
    "pyplot.plot(x, T, 'k-', label='Approx. Solution')\n",
    "pyplot.title('Solution of the matrix equation: Implicit', fontsize=16)\n",
    "pyplot.xlabel(u'$x$', fontsize=14)\n",
    "pyplot.ylabel(u'$u$', fontsize=14, rotation=0)\n",
    "pyplot.legend(fontsize=14)\n",
    "pyplot.show()\n",
    "\n"
   ]
  },
  {
   "cell_type": "markdown",
   "metadata": {},
   "source": [
    "## Explicit Scheme"
   ]
  },
  {
   "cell_type": "code",
   "execution_count": 7,
   "metadata": {
    "collapsed": false
   },
   "outputs": [
    {
     "data": {
      "image/png": "[encoded data removed]",
      "text/plain": [
       "<matplotlib.figure.Figure at 0x7f62cf838780>"
      ]
     },
     "metadata": {},
     "output_type": "display_data"
    }
   ],
   "source": [
    "# Set parameters\n",
    "sigma = 1.0\n",
    "barX = 1.0\n",
    "T = 0.1\n",
    "\n",
    "# Set up grid parameters\n",
    "nx = 10000  # num of grid points\n",
    "nt = 5000 # num of time steps\n",
    "\n",
    "dx = barX / (nx - 1)   # Grid step in space\n",
    "dt = T / nt            # Grid step in time\n",
    "\n",
    "# Space step size\n",
    "x = np.linspace(0.0, barX, nx)\n",
    "# Boundary conditions\n",
    "x = np.linspace(0.0, barX, nx)\n",
    "u = np.sin(2 * np.pi * x)\n",
    "rhs = np.zeros(nx)\n",
    "\n",
    "# Definition of the tridiagonal matrix\n",
    "Tmatrix = [np.ones(nx), 2 *np.ones(nx), np.ones(nx)]\n",
    "nonzeropositions = np.array([-1, 0, 1])\n",
    "iterationMatrix = dia_matrix((Tmatrix, nonzeropositions), shape=(nx, nx))\n",
    "\n",
    "# Solving the linear system\n",
    "spSolution = spsolve(iterationMatrix, u)\n",
    "\n",
    "# Initial Condition & solution plot\n",
    "pyplot.figure()\n",
    "pyplot.plot(x, u, 'b-', label='Initial Condition')\n",
    "pyplot.plot(x, spSolution, 'k-', label='Approx. Solution')\n",
    "pyplot.title('Solution of the matrix equation: Explicit', fontsize=16)\n",
    "pyplot.xlabel(u'$x$', fontsize=14)\n",
    "pyplot.ylabel(u'$u$', fontsize=14, rotation=0)\n",
    "pyplot.legend(fontsize=14)\n",
    "pyplot.show()\n"
   ]
  },
  {
   "cell_type": "code",
   "execution_count": null,
   "metadata": {
    "collapsed": true
   },
   "outputs": [],
   "source": []
  }
 ],
 "metadata": {
  "anaconda-cloud": {},
  "kernelspec": {
   "display_name": "Python [Root]",
   "language": "python",
   "name": "Python [Root]"
  },
  "language_info": {
   "codemirror_mode": {
    "name": "ipython",
    "version": 3
   },
   "file_extension": ".py",
   "mimetype": "text/x-python",
   "name": "python",
   "nbconvert_exporter": "python",
   "pygments_lexer": "ipython3",
   "version": "3.5.2"
  }
 },
 "nbformat": 4,
 "nbformat_minor": 0
}
