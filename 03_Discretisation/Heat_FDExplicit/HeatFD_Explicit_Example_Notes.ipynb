{
 "cells": [
  {
   "cell_type": "markdown",
   "metadata": {},
   "source": [
    "# Example in Lecture Notes"
   ]
  },
  {
   "cell_type": "markdown",
   "metadata": {},
   "source": [
    "### Helper Functions"
   ]
  },
  {
   "cell_type": "markdown",
   "metadata": {},
   "source": [
    "#### Import packages"
   ]
  },
  {
   "cell_type": "code",
   "execution_count": 11,
   "metadata": {
    "collapsed": true
   },
   "outputs": [],
   "source": [
    "import numpy as np \n",
    "from matplotlib import pyplot, figure\n",
    "%matplotlib inline\n",
    "from matplotlib import rcParams\n",
    "rcParams['font.family'] = 'serif'\n",
    "rcParams['font.size'] = 10\n",
    "from time import time\n",
    "\n",
    "import warnings\n",
    "warnings.filterwarnings(\"ignore\")\n"
   ]
  },
  {
   "cell_type": "markdown",
   "metadata": {},
   "source": [
    "#### Forward Time Central Difference Scheme"
   ]
  },
  {
   "cell_type": "code",
   "execution_count": 20,
   "metadata": {
    "collapsed": true
   },
   "outputs": [],
   "source": [
    "def explicitSchemeHeatEquation(sigma, barX, T, m, n, BC, *extraArguments):\n",
    "    dx = barX / (m - 1) # Grid step in space\n",
    "    dt = T / n\n",
    "    # Grid step in time\n",
    "    # Boundary conditions\n",
    "    x = np.linspace(0.0, barX, m)\n",
    "    u = BC(x)\n",
    "    rhs = np.zeros(m)\n",
    "    for l in range(0, n):\n",
    "        rhs[1:-1] = dt * (0.5 * sigma * sigma) * \\\n",
    "            (u[:-2] - 2.0 * u[1:-1] + u[2:]) / (dx * dx)\n",
    "        u += rhs\n",
    "    return [x, u]"
   ]
  },
  {
   "cell_type": "markdown",
   "metadata": {},
   "source": [
    "#### Boundary conditions in the example from the lecture note"
   ]
  },
  {
   "cell_type": "code",
   "execution_count": 21,
   "metadata": {
    "collapsed": false
   },
   "outputs": [],
   "source": [
    "def f(z):\n",
    "    u = np.zeros(len(z))\n",
    "    for i in range(len(z)):\n",
    "        if z[i] < 0.5:\n",
    "            u[i] = 2.0 * z[i]\n",
    "        else:\n",
    "            u[i] = 2.0 * (1.0 - z[i])\n",
    "    return u"
   ]
  },
  {
   "cell_type": "markdown",
   "metadata": {},
   "source": [
    "#### Run Simulation"
   ]
  },
  {
   "cell_type": "code",
   "execution_count": 23,
   "metadata": {
    "collapsed": false
   },
   "outputs": [
    {
     "data": {
      "image/png": "[encoded data removed]",
      "text/plain": [
       "<matplotlib.figure.Figure at 0x7f6b597787b8>"
      ]
     },
     "metadata": {},
     "output_type": "display_data"
    }
   ],
   "source": [
    "sigma = np.sqrt(2.0)\n",
    "barX = 1.0\n",
    "T = 0.001\n",
    "nx = 100 # Number of grid points in space\n",
    "nt = 10000 # Number of time steps\n",
    "\n",
    "TT = np.arange(0.1, 0.5, 0.1)\n",
    "for T in TT:\n",
    "    [x, u] = explicitSchemeHeatEquation(sigma, barX, T, nx, nt, f)\n",
    "    plotlabel = \"t = %1.2f\" % T\n",
    "    pyplot.plot(x, u, label=plotlabel, color=pyplot.get_cmap('afmhot')(T))\n",
    "    pyplot.legend()\n",
    "    \n",
    "dx = barX / (nx - 1)\n",
    "dt = T / nt\n",
    "cfl = sigma * sigma * dt / (dx * dx)\n",
    "pyplot.title(\"Solutions of the heat equation. CFL= %s \" % cfl)\n",
    "pyplot.show()\n",
    "\n"
   ]
  },
  {
   "cell_type": "code",
   "execution_count": null,
   "metadata": {
    "collapsed": true
   },
   "outputs": [],
   "source": []
  }
 ],
 "metadata": {
  "anaconda-cloud": {},
  "kernelspec": {
   "display_name": "Python [Root]",
   "language": "python",
   "name": "Python [Root]"
  },
  "language_info": {
   "codemirror_mode": {
    "name": "ipython",
    "version": 3
   },
   "file_extension": ".py",
   "mimetype": "text/x-python",
   "name": "python",
   "nbconvert_exporter": "python",
   "pygments_lexer": "ipython3",
   "version": "3.5.2"
  }
 },
 "nbformat": 4,
 "nbformat_minor": 0
}
