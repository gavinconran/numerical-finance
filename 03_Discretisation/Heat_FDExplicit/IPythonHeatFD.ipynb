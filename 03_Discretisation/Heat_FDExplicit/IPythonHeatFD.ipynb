{
 "cells": [
  {
   "cell_type": "markdown",
   "metadata": {},
   "source": [
    "# Heat Equation - FD"
   ]
  },
  {
   "cell_type": "markdown",
   "metadata": {},
   "source": [
    "## Finite-difference scheme for the one-dimensional heat equation"
   ]
  },
  {
   "cell_type": "markdown",
   "metadata": {},
   "source": [
    "We consider here the heat equation on [0, x] × [0, ∞) with boundary conditions \n",
    "u(x, 0) = sin(2πx) for all x ∈ [0, x] and \n",
    "u(0, t) = u(x, t) = 0 for all t ≥ 0. \n",
    "\n",
    "We apply a finite difference scheme, explicit in time and with central difference in space"
   ]
  },
  {
   "cell_type": "markdown",
   "metadata": {},
   "source": [
    "## Explicit Scheme in time"
   ]
  },
  {
   "cell_type": "markdown",
   "metadata": {},
   "source": [
    "### No vector notation"
   ]
  },
  {
   "cell_type": "code",
   "execution_count": 5,
   "metadata": {
    "collapsed": false
   },
   "outputs": [
    {
     "name": "stdout",
     "output_type": "stream",
     "text": [
      "--- Computtaion time: 3.44989013671875 seconds ---\n"
     ]
    }
   ],
   "source": [
    "import numpy as np \n",
    "from matplotlib import pyplot\n",
    "from matplotlib import rcParams\n",
    "rcParams['font.family'] = 'serif'\n",
    "rcParams['font.size'] = 16\n",
    "from time import time\n",
    "\n",
    "# set up simulation parameters\n",
    "start_time = time()\n",
    "sigma = 1.0\n",
    "barX = 1.0\n",
    "T = 0.1\n",
    "\n",
    "nx = 100  # num of grid points\n",
    "nt = 5000 # num of time steps\n",
    "\n",
    "dx = barX / (nx - 1)   # Grid step in space\n",
    "dt = T / nt            # Grid step in time\n",
    "\n",
    "# Boundary conditions\n",
    "x = np.linspace(0.0, barX, nx)\n",
    "u = np.sin(2 * np.pi * x)\n",
    "\n",
    "# Double loop\n",
    "for n in range(0, nt): # for each time step\n",
    "    for j in range(1, nx - 1):  # for each point in grid\n",
    "        u[j] += dt * (0.5 * sigma * sigma) * \\\n",
    "            (u[j - 1] - 2 * u[j] + u[j + 1]) / (dx**2)\n",
    "            \n",
    "    # Plot every pp time steps\n",
    "    pp = 100\n",
    "    if (n % pp == 0):\n",
    "        if (n % (10 * pp) == 0):\n",
    "            plotlabel = \"t = %1.2f\" % (n * dt)\n",
    "            pyplot.plot(x, u, label=plotlabel, color=pyplot.get_cmap(\n",
    "                'copper')(float(n) / nt))\n",
    "            \n",
    "pyplot.xlabel(u'$x$', fontsize=14)\n",
    "pyplot.title(u'One-dimensional heat equation')\n",
    "pyplot.legend()\n",
    "pyplot.show()\n",
    "temp = time() - start_time\n",
    "print(\"--- Computtaion time: %s seconds ---\" % temp)\n",
    "        \n",
    "\n"
   ]
  }
 ],
 "metadata": {
  "anaconda-cloud": {},
  "kernelspec": {
   "display_name": "Python [Root]",
   "language": "python",
   "name": "Python [Root]"
  },
  "language_info": {
   "codemirror_mode": {
    "name": "ipython",
    "version": 3
   },
   "file_extension": ".py",
   "mimetype": "text/x-python",
   "name": "python",
   "nbconvert_exporter": "python",
   "pygments_lexer": "ipython3",
   "version": "3.5.2"
  }
 },
 "nbformat": 4,
 "nbformat_minor": 0
}
